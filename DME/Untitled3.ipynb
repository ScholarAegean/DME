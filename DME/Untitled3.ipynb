{
 "cells": [
  {
   "cell_type": "code",
   "execution_count": null,
   "metadata": {},
   "outputs": [],
   "source": [
    "import pandas as pd\n",
    "data=pd.read_csv('dataset2.csv')\n",
    "data['year']=pd.DatetimeIndex(data['StartDate']).year  \n",
    "data['LeadROName']=data['LeadROName'].str.upper()\n",
    "data['ProjectCategory']=data['ProjectCategory'].str.upper()\n",
    "data['Region']=data1['Region'].str.upper()\n",
    "df=data\n",
    "df['ProviderType']=df['LeadROName'].map(lambda x : \"COLLEGE\" if 'COLLEGE' in x else x)\n",
    "df['ProviderType']=df['ProviderType'].map(lambda x : \"UNIVERSITY\" if 'UNIVERSITY' in x else x)\n",
    "df['ProviderType']=df['ProviderType'].map(lambda x : x if x=='UNIVERSITY' or x=='COLLEGE' in x else 'COMPANY')\n",
    "df.loc[(df['ProjectCategory'] == 'CENTRES'), 'ProjectCategory'] = 'Research'\n",
    "df.loc[(df['ProjectCategory'] == 'GRD DEVELOPMENT OF PROTOTYPE'), 'ProjectCategory'] = 'Research'\n",
    "df.loc[(df['ProjectCategory'] == 'TRAINING GRANT'), 'ProjectCategory'] = 'Research'\n",
    "df.loc[(df['ProjectCategory'] == 'RESEARCH GRANT'), 'ProjectCategory'] = 'Research'\n",
    "df.loc[(df['ProjectCategory'] == 'Research'), 'ProjectCategory'] = 'RESEARCH'\n",
    "df.loc[(df['ProjectCategory'] == 'BIS-FUNDED PROGRAMMES'), 'ProjectCategory'] = 'BUSINESS'\n",
    "df.loc[(df['ProjectCategory'] == 'KNOWLEDGE TRANSFER NETWORK'), 'ProjectCategory'] = 'BUSINESS'\n",
    "df.loc[(df['ProjectCategory'] == 'KNOWLEDGE TRANSFER PARTNERSHIP'), 'ProjectCategory'] = 'BUSINESS'\n",
    "df.loc[(df['ProjectCategory'] == 'LAUNCHPAD'), 'ProjectCategory'] = 'BUSINESS'\n",
    "df.loc[(df['ProjectCategory'] == 'SMALL BUSINESS RESEARCH INITIATIVE'), 'ProjectCategory'] = 'BUSINESS'\n",
    "df.loc[(df['ProjectCategory'] == 'EU-FUNDED'), 'ProjectCategory'] = 'EDUCATION'\n",
    "df.loc[(df['ProjectCategory'] == 'FELLOWSHIP'), 'ProjectCategory'] = 'EDUCATION'\n",
    "df.loc[(df['ProjectCategory'] == 'STUDY'), 'ProjectCategory'] = 'EDUCATION'\n",
    "df.loc[(df['ProjectCategory'] == 'COLLABORATIVE R&D'), 'ProjectCategory'] = 'RESEARCH'\n",
    "df.loc[(df['ProjectCategory'] == 'CR&D BILATERAL'), 'ProjectCategory'] = 'RESEARCH'\n",
    "df.loc[(df['ProjectCategory'] == 'CRD'), 'ProjectCategory'] = 'RESEARCH'"
   ]
  },
  {
   "cell_type": "code",
   "execution_count": null,
   "metadata": {},
   "outputs": [],
   "source": [
    "import pandas as pd\n",
    "data=pd.read_csv('data.csv')\n",
    "df = data.drop(data[data.Year > 2016].index)\n",
    "df=data.drop(data[data.Year <2011].index)\n",
    "df['ProviderType']=df['LeadROName'].map(lambda x : \"COLLEGE\" if 'COLLEGE' in x else x)\n",
    "df['ProviderType']=df['ProviderType'].map(lambda x : \"UNIVERSITY\" if 'UNIVERSITY' in x else x)\n",
    "df['ProviderType']=df['ProviderType'].map(lambda x : x if x=='UNIVERSITY' or x=='COLLEGE' in x else 'COMPANY')\n",
    "data\n"
   ]
  },
  {
   "cell_type": "code",
   "execution_count": null,
   "metadata": {},
   "outputs": [],
   "source": [
    "grouped = read['Value'].groupby([read['Purpose'], read['ProviderType'], read['Year']])\n",
    "grouped.mean()\n",
    "y = {}\n",
    "for i in first:\n",
    "    for j in second:\n",
    "        y[i,j] = []\n",
    "        for k in range(2012, 2017):\n",
    "            try:\n",
    "                y[i,j].append(grouped.mean()[i][j][k])\n",
    "            except KeyError:\n",
    "                y[i,j].append(0)\n",
    "grouped.std()\n",
    "error = {}\n",
    "for i in first:\n",
    "    for j in second:\n",
    "        error[i,j] = []\n",
    "        for k in range(2012, 2017):\n",
    "            try:\n",
    "                error[i,j].append(grouped.std()[i][j][k])\n",
    "            except KeyError:\n",
    "                error[i,j].append(0)\n",
    "for i in range(3):\n",
    "    plt.plot(np.arange(2012, 2017), y[first[0], second[i]])\n",
    "    plt.scatter(np.arange(2012, 2017), y[first[0], second[i]], marker='o')\n",
    "    plt.plot(np.arange(2012, 2017), y[first[1], second[i]])\n",
    "    plt.scatter(np.arange(2012, 2017), y[first[1], second[i]], marker='o')\n",
    "plt.legend(['HIGHER EDUCATION INSTITUTION', 'FURTHER EDUCATION COLLEGES', 'COMPANY'])\n",
    "plt.title('Changes in education grant in 2012-2016.')\n",
    "plt.xticks(np.arange(2012, 2017))\n",
    "plt.legend(['HIGHER EDUCATION INSTITUTION', 'FURTHER EDUCATION COLLEGES', 'COMPANY'])\n",
    "plt.title('Changes in research grant in 2012-2016.')\n",
    "plt.xticks(np.arange(2012, 2017))\n"
   ]
  }
 ],
 "metadata": {
  "kernelspec": {
   "display_name": "Python 3",
   "language": "python",
   "name": "python3"
  },
  "language_info": {
   "codemirror_mode": {
    "name": "ipython",
    "version": 3
   },
   "file_extension": ".py",
   "mimetype": "text/x-python",
   "name": "python",
   "nbconvert_exporter": "python",
   "pygments_lexer": "ipython3",
   "version": "3.6.8"
  }
 },
 "nbformat": 4,
 "nbformat_minor": 2
}
